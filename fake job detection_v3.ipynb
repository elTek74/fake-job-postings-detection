{
 "cells": [
  {
   "cell_type": "code",
   "execution_count": 2,
   "metadata": {},
   "outputs": [],
   "source": [
    "import numpy as np\n",
    "import matplotlib.pyplot as plt\n",
    "import pandas as pd\n",
    "import scipy as sp\n",
    "import sys\n",
    "from time import time\n",
    "from utils import*\n",
    "\n",
    "from sklearn.feature_extraction.text import CountVectorizer\n",
    "from sklearn.feature_extraction.text import TfidfVectorizer\n",
    "from sklearn.feature_extraction.text import TfidfTransformer\n",
    "from sklearn.feature_selection import SelectFromModel\n",
    "from sklearn.feature_selection import SelectKBest, chi2\n",
    "from sklearn.linear_model import SGDClassifier\n",
    "from sklearn.naive_bayes import BernoulliNB, MultinomialNB\n",
    "from sklearn.svm import LinearSVC\n",
    "from sklearn.ensemble import RandomForestClassifier\n",
    "from sklearn.ensemble import AdaBoostClassifier\n",
    "from sklearn import metrics\n",
    "from sklearn.pipeline import Pipeline\n",
    "from sklearn.model_selection import StratifiedKFold, KFold\n",
    "from sklearn.model_selection import train_test_split\n",
    "from sklearn.model_selection import GridSearchCV\n",
    "from sklearn.model_selection import cross_val_score\n",
    "\n",
    "from gensim.models import word2vec\n",
    "from gensim.utils import tokenize\n",
    "import nltk.data\n",
    "from nltk.corpus import stopwords\n",
    "from bs4 import BeautifulSoup \n",
    "import re "
   ]
  },
  {
   "cell_type": "code",
   "execution_count": 3,
   "metadata": {},
   "outputs": [],
   "source": [
    "#nltk.download('popular')"
   ]
  },
  {
   "cell_type": "markdown",
   "metadata": {},
   "source": [
    "# 1.Load data"
   ]
  },
  {
   "cell_type": "code",
   "execution_count": 4,
   "metadata": {},
   "outputs": [
    {
     "data": {
      "text/plain": [
       "Text(0, 0.5, 'Number of job postings')"
      ]
     },
     "execution_count": 4,
     "metadata": {},
     "output_type": "execute_result"
    },
    {
     "data": {
      "image/png": "[encoded data removed]",
      "text/plain": [
       "<Figure size 288x216 with 1 Axes>"
      ]
     },
     "metadata": {
      "needs_background": "light"
     },
     "output_type": "display_data"
    }
   ],
   "source": [
    "dataframe = pd.read_csv('fake_job_postings.csv')\n",
    "\n",
    "counts = dataframe.fraudulent.value_counts()\n",
    "width = 0.7\n",
    "plt.figure(figsize=(4,3))\n",
    "plt.bar(['real','fake'],counts,width)\n",
    "plt.ylabel('Number of job postings')"
   ]
  },
  {
   "cell_type": "markdown",
   "metadata": {},
   "source": [
    "### All data preview"
   ]
  },
  {
   "cell_type": "code",
   "execution_count": 5,
   "metadata": {},
   "outputs": [
    {
     "name": "stdout",
     "output_type": "stream",
     "text": [
      "shape:  (17880, 18)\n"
     ]
    },
    {
     "data": {
      "text/html": [
       "<div>\n",
       "<style scoped>\n",
       "    .dataframe tbody tr th:only-of-type {\n",
       "        vertical-align: middle;\n",
       "    }\n",
       "\n",
       "    .dataframe tbody tr th {\n",
       "        vertical-align: top;\n",
       "    }\n",
       "\n",
       "    .dataframe thead th {\n",
       "        text-align: right;\n",
       "    }\n",
       "</style>\n",
       "<table border=\"1\" class=\"dataframe\">\n",
       "  <thead>\n",
       "    <tr style=\"text-align: right;\">\n",
       "      <th></th>\n",
       "      <th>job_id</th>\n",
       "      <th>title</th>\n",
       "      <th>location</th>\n",
       "      <th>department</th>\n",
       "      <th>salary_range</th>\n",
       "      <th>company_profile</th>\n",
       "      <th>description</th>\n",
       "      <th>requirements</th>\n",
       "      <th>benefits</th>\n",
       "      <th>telecommuting</th>\n",
       "      <th>has_company_logo</th>\n",
       "      <th>has_questions</th>\n",
       "      <th>employment_type</th>\n",
       "      <th>required_experience</th>\n",
       "      <th>required_education</th>\n",
       "      <th>industry</th>\n",
       "      <th>function</th>\n",
       "      <th>fraudulent</th>\n",
       "    </tr>\n",
       "  </thead>\n",
       "  <tbody>\n",
       "    <tr>\n",
       "      <th>0</th>\n",
       "      <td>1</td>\n",
       "      <td>Marketing Intern</td>\n",
       "      <td>US, NY, New York</td>\n",
       "      <td>Marketing</td>\n",
       "      <td>NaN</td>\n",
       "      <td>We're Food52, and we've created a groundbreaki...</td>\n",
       "      <td>Food52, a fast-growing, James Beard Award-winn...</td>\n",
       "      <td>Experience with content management systems a m...</td>\n",
       "      <td>NaN</td>\n",
       "      <td>0</td>\n",
       "      <td>1</td>\n",
       "      <td>0</td>\n",
       "      <td>Other</td>\n",
       "      <td>Internship</td>\n",
       "      <td>NaN</td>\n",
       "      <td>NaN</td>\n",
       "      <td>Marketing</td>\n",
       "      <td>0</td>\n",
       "    </tr>\n",
       "    <tr>\n",
       "      <th>1</th>\n",
       "      <td>2</td>\n",
       "      <td>Customer Service - Cloud Video Production</td>\n",
       "      <td>NZ, , Auckland</td>\n",
       "      <td>Success</td>\n",
       "      <td>NaN</td>\n",
       "      <td>90 Seconds, the worlds Cloud Video Production ...</td>\n",
       "      <td>Organised - Focused - Vibrant - Awesome!Do you...</td>\n",
       "      <td>What we expect from you:Your key responsibilit...</td>\n",
       "      <td>What you will get from usThrough being part of...</td>\n",
       "      <td>0</td>\n",
       "      <td>1</td>\n",
       "      <td>0</td>\n",
       "      <td>Full-time</td>\n",
       "      <td>Not Applicable</td>\n",
       "      <td>NaN</td>\n",
       "      <td>Marketing and Advertising</td>\n",
       "      <td>Customer Service</td>\n",
       "      <td>0</td>\n",
       "    </tr>\n",
       "    <tr>\n",
       "      <th>2</th>\n",
       "      <td>3</td>\n",
       "      <td>Commissioning Machinery Assistant (CMA)</td>\n",
       "      <td>US, IA, Wever</td>\n",
       "      <td>NaN</td>\n",
       "      <td>NaN</td>\n",
       "      <td>Valor Services provides Workforce Solutions th...</td>\n",
       "      <td>Our client, located in Houston, is actively se...</td>\n",
       "      <td>Implement pre-commissioning and commissioning ...</td>\n",
       "      <td>NaN</td>\n",
       "      <td>0</td>\n",
       "      <td>1</td>\n",
       "      <td>0</td>\n",
       "      <td>NaN</td>\n",
       "      <td>NaN</td>\n",
       "      <td>NaN</td>\n",
       "      <td>NaN</td>\n",
       "      <td>NaN</td>\n",
       "      <td>0</td>\n",
       "    </tr>\n",
       "    <tr>\n",
       "      <th>3</th>\n",
       "      <td>4</td>\n",
       "      <td>Account Executive - Washington DC</td>\n",
       "      <td>US, DC, Washington</td>\n",
       "      <td>Sales</td>\n",
       "      <td>NaN</td>\n",
       "      <td>Our passion for improving quality of life thro...</td>\n",
       "      <td>THE COMPANY: ESRI – Environmental Systems Rese...</td>\n",
       "      <td>EDUCATION: Bachelor’s or Master’s in GIS, busi...</td>\n",
       "      <td>Our culture is anything but corporate—we have ...</td>\n",
       "      <td>0</td>\n",
       "      <td>1</td>\n",
       "      <td>0</td>\n",
       "      <td>Full-time</td>\n",
       "      <td>Mid-Senior level</td>\n",
       "      <td>Bachelor's Degree</td>\n",
       "      <td>Computer Software</td>\n",
       "      <td>Sales</td>\n",
       "      <td>0</td>\n",
       "    </tr>\n",
       "    <tr>\n",
       "      <th>4</th>\n",
       "      <td>5</td>\n",
       "      <td>Bill Review Manager</td>\n",
       "      <td>US, FL, Fort Worth</td>\n",
       "      <td>NaN</td>\n",
       "      <td>NaN</td>\n",
       "      <td>SpotSource Solutions LLC is a Global Human Cap...</td>\n",
       "      <td>JOB TITLE: Itemization Review ManagerLOCATION:...</td>\n",
       "      <td>QUALIFICATIONS:RN license in the State of Texa...</td>\n",
       "      <td>Full Benefits Offered</td>\n",
       "      <td>0</td>\n",
       "      <td>1</td>\n",
       "      <td>1</td>\n",
       "      <td>Full-time</td>\n",
       "      <td>Mid-Senior level</td>\n",
       "      <td>Bachelor's Degree</td>\n",
       "      <td>Hospital &amp; Health Care</td>\n",
       "      <td>Health Care Provider</td>\n",
       "      <td>0</td>\n",
       "    </tr>\n",
       "  </tbody>\n",
       "</table>\n",
       "</div>"
      ],
      "text/plain": [
       "   job_id                                      title            location  \\\n",
       "0       1                           Marketing Intern    US, NY, New York   \n",
       "1       2  Customer Service - Cloud Video Production      NZ, , Auckland   \n",
       "2       3    Commissioning Machinery Assistant (CMA)       US, IA, Wever   \n",
       "3       4          Account Executive - Washington DC  US, DC, Washington   \n",
       "4       5                        Bill Review Manager  US, FL, Fort Worth   \n",
       "\n",
       "  department salary_range                                    company_profile  \\\n",
       "0  Marketing          NaN  We're Food52, and we've created a groundbreaki...   \n",
       "1    Success          NaN  90 Seconds, the worlds Cloud Video Production ...   \n",
       "2        NaN          NaN  Valor Services provides Workforce Solutions th...   \n",
       "3      Sales          NaN  Our passion for improving quality of life thro...   \n",
       "4        NaN          NaN  SpotSource Solutions LLC is a Global Human Cap...   \n",
       "\n",
       "                                         description  \\\n",
       "0  Food52, a fast-growing, James Beard Award-winn...   \n",
       "1  Organised - Focused - Vibrant - Awesome!Do you...   \n",
       "2  Our client, located in Houston, is actively se...   \n",
       "3  THE COMPANY: ESRI – Environmental Systems Rese...   \n",
       "4  JOB TITLE: Itemization Review ManagerLOCATION:...   \n",
       "\n",
       "                                        requirements  \\\n",
       "0  Experience with content management systems a m...   \n",
       "1  What we expect from you:Your key responsibilit...   \n",
       "2  Implement pre-commissioning and commissioning ...   \n",
       "3  EDUCATION: Bachelor’s or Master’s in GIS, busi...   \n",
       "4  QUALIFICATIONS:RN license in the State of Texa...   \n",
       "\n",
       "                                            benefits  telecommuting  \\\n",
       "0                                                NaN              0   \n",
       "1  What you will get from usThrough being part of...              0   \n",
       "2                                                NaN              0   \n",
       "3  Our culture is anything but corporate—we have ...              0   \n",
       "4                              Full Benefits Offered              0   \n",
       "\n",
       "   has_company_logo  has_questions employment_type required_experience  \\\n",
       "0                 1              0           Other          Internship   \n",
       "1                 1              0       Full-time      Not Applicable   \n",
       "2                 1              0             NaN                 NaN   \n",
       "3                 1              0       Full-time    Mid-Senior level   \n",
       "4                 1              1       Full-time    Mid-Senior level   \n",
       "\n",
       "  required_education                   industry              function  \\\n",
       "0                NaN                        NaN             Marketing   \n",
       "1                NaN  Marketing and Advertising      Customer Service   \n",
       "2                NaN                        NaN                   NaN   \n",
       "3  Bachelor's Degree          Computer Software                 Sales   \n",
       "4  Bachelor's Degree     Hospital & Health Care  Health Care Provider   \n",
       "\n",
       "   fraudulent  \n",
       "0           0  \n",
       "1           0  \n",
       "2           0  \n",
       "3           0  \n",
       "4           0  "
      ]
     },
     "execution_count": 5,
     "metadata": {},
     "output_type": "execute_result"
    }
   ],
   "source": [
    "print('shape: ',dataframe.shape)\n",
    "series_names = list(dataframe.columns.values) \n",
    "data_top = dataframe.head()\n",
    "data_top"
   ]
  },
  {
   "cell_type": "markdown",
   "metadata": {},
   "source": [
    "### Fake data preview"
   ]
  },
  {
   "cell_type": "code",
   "execution_count": 6,
   "metadata": {},
   "outputs": [
    {
     "data": {
      "text/html": [
       "<div>\n",
       "<style scoped>\n",
       "    .dataframe tbody tr th:only-of-type {\n",
       "        vertical-align: middle;\n",
       "    }\n",
       "\n",
       "    .dataframe tbody tr th {\n",
       "        vertical-align: top;\n",
       "    }\n",
       "\n",
       "    .dataframe thead th {\n",
       "        text-align: right;\n",
       "    }\n",
       "</style>\n",
       "<table border=\"1\" class=\"dataframe\">\n",
       "  <thead>\n",
       "    <tr style=\"text-align: right;\">\n",
       "      <th></th>\n",
       "      <th>job_id</th>\n",
       "      <th>title</th>\n",
       "      <th>location</th>\n",
       "      <th>department</th>\n",
       "      <th>salary_range</th>\n",
       "      <th>company_profile</th>\n",
       "      <th>description</th>\n",
       "      <th>requirements</th>\n",
       "      <th>benefits</th>\n",
       "      <th>telecommuting</th>\n",
       "      <th>has_company_logo</th>\n",
       "      <th>has_questions</th>\n",
       "      <th>employment_type</th>\n",
       "      <th>required_experience</th>\n",
       "      <th>required_education</th>\n",
       "      <th>industry</th>\n",
       "      <th>function</th>\n",
       "      <th>fraudulent</th>\n",
       "    </tr>\n",
       "  </thead>\n",
       "  <tbody>\n",
       "    <tr>\n",
       "      <th>98</th>\n",
       "      <td>99</td>\n",
       "      <td>IC&amp;E Technician</td>\n",
       "      <td>US, , Stocton, CA</td>\n",
       "      <td>Oil &amp; Energy</td>\n",
       "      <td>95000-115000</td>\n",
       "      <td>...</td>\n",
       "      <td>IC&amp;amp;E Technician | Bakersfield, CA Mt. Poso...</td>\n",
       "      <td>QualificationsKnowledge, Skills &amp;amp; Abilitie...</td>\n",
       "      <td>BENEFITSWhat is offered:Competitive compensati...</td>\n",
       "      <td>0</td>\n",
       "      <td>1</td>\n",
       "      <td>1</td>\n",
       "      <td>Full-time</td>\n",
       "      <td>Mid-Senior level</td>\n",
       "      <td>High School or equivalent</td>\n",
       "      <td>Oil &amp; Energy</td>\n",
       "      <td>Other</td>\n",
       "      <td>1</td>\n",
       "    </tr>\n",
       "    <tr>\n",
       "      <th>144</th>\n",
       "      <td>145</td>\n",
       "      <td>Forward Cap.</td>\n",
       "      <td>NaN</td>\n",
       "      <td>NaN</td>\n",
       "      <td>NaN</td>\n",
       "      <td>NaN</td>\n",
       "      <td>The group has raised a fund for the purchase o...</td>\n",
       "      <td>NaN</td>\n",
       "      <td>NaN</td>\n",
       "      <td>0</td>\n",
       "      <td>0</td>\n",
       "      <td>0</td>\n",
       "      <td>NaN</td>\n",
       "      <td>NaN</td>\n",
       "      <td>NaN</td>\n",
       "      <td>NaN</td>\n",
       "      <td>NaN</td>\n",
       "      <td>1</td>\n",
       "    </tr>\n",
       "    <tr>\n",
       "      <th>173</th>\n",
       "      <td>174</td>\n",
       "      <td>Technician Instrument &amp; Controls</td>\n",
       "      <td>US</td>\n",
       "      <td>Power Plant &amp; Energy</td>\n",
       "      <td>NaN</td>\n",
       "      <td>Edison International and Refined Resources hav...</td>\n",
       "      <td>Technician Instrument &amp;amp; ControlsLocation D...</td>\n",
       "      <td>JOB QUALIFICATIONS-Ability to understand proce...</td>\n",
       "      <td>we are a team of almost 8,000 employees who he...</td>\n",
       "      <td>0</td>\n",
       "      <td>1</td>\n",
       "      <td>1</td>\n",
       "      <td>Full-time</td>\n",
       "      <td>Mid-Senior level</td>\n",
       "      <td>Certification</td>\n",
       "      <td>Electrical/Electronic Manufacturing</td>\n",
       "      <td>Other</td>\n",
       "      <td>1</td>\n",
       "    </tr>\n",
       "    <tr>\n",
       "      <th>180</th>\n",
       "      <td>181</td>\n",
       "      <td>Sales Executive</td>\n",
       "      <td>PK, SD, Karachi</td>\n",
       "      <td>Sales</td>\n",
       "      <td>NaN</td>\n",
       "      <td>NaN</td>\n",
       "      <td>Sales Executive</td>\n",
       "      <td>Sales Executive</td>\n",
       "      <td>Sales Executive</td>\n",
       "      <td>0</td>\n",
       "      <td>0</td>\n",
       "      <td>0</td>\n",
       "      <td>NaN</td>\n",
       "      <td>NaN</td>\n",
       "      <td>NaN</td>\n",
       "      <td>NaN</td>\n",
       "      <td>Sales</td>\n",
       "      <td>1</td>\n",
       "    </tr>\n",
       "    <tr>\n",
       "      <th>215</th>\n",
       "      <td>216</td>\n",
       "      <td>IC&amp;E Technician Mt Poso</td>\n",
       "      <td>US, CA, Bakersfield, CA / Mt. Poso</td>\n",
       "      <td>Oil &amp; Energy</td>\n",
       "      <td>95000-115000</td>\n",
       "      <td>...</td>\n",
       "      <td>IC&amp;amp;E Technician | Bakersfield, CA Mt. Poso...</td>\n",
       "      <td>QualificationsKnowledge, Skills &amp;amp; Abiliti...</td>\n",
       "      <td>BENEFITSWhat is offered:Competitive compensati...</td>\n",
       "      <td>0</td>\n",
       "      <td>1</td>\n",
       "      <td>1</td>\n",
       "      <td>Full-time</td>\n",
       "      <td>Mid-Senior level</td>\n",
       "      <td>High School or equivalent</td>\n",
       "      <td>Oil &amp; Energy</td>\n",
       "      <td>Other</td>\n",
       "      <td>1</td>\n",
       "    </tr>\n",
       "  </tbody>\n",
       "</table>\n",
       "</div>"
      ],
      "text/plain": [
       "     job_id                              title  \\\n",
       "98       99                    IC&E Technician   \n",
       "144     145                       Forward Cap.   \n",
       "173     174  Technician Instrument & Controls    \n",
       "180     181                    Sales Executive   \n",
       "215     216            IC&E Technician Mt Poso   \n",
       "\n",
       "                               location            department  salary_range  \\\n",
       "98                    US, , Stocton, CA          Oil & Energy  95000-115000   \n",
       "144                                 NaN                   NaN           NaN   \n",
       "173                                  US  Power Plant & Energy           NaN   \n",
       "180                     PK, SD, Karachi                 Sales           NaN   \n",
       "215  US, CA, Bakersfield, CA / Mt. Poso          Oil & Energy  95000-115000   \n",
       "\n",
       "                                       company_profile  \\\n",
       "98                                                 ...   \n",
       "144                                                NaN   \n",
       "173  Edison International and Refined Resources hav...   \n",
       "180                                                NaN   \n",
       "215                                                ...   \n",
       "\n",
       "                                           description  \\\n",
       "98   IC&amp;E Technician | Bakersfield, CA Mt. Poso...   \n",
       "144  The group has raised a fund for the purchase o...   \n",
       "173  Technician Instrument &amp; ControlsLocation D...   \n",
       "180                                    Sales Executive   \n",
       "215  IC&amp;E Technician | Bakersfield, CA Mt. Poso...   \n",
       "\n",
       "                                          requirements  \\\n",
       "98   QualificationsKnowledge, Skills &amp; Abilitie...   \n",
       "144                                                NaN   \n",
       "173  JOB QUALIFICATIONS-Ability to understand proce...   \n",
       "180                                    Sales Executive   \n",
       "215   QualificationsKnowledge, Skills &amp; Abiliti...   \n",
       "\n",
       "                                              benefits  telecommuting  \\\n",
       "98   BENEFITSWhat is offered:Competitive compensati...              0   \n",
       "144                                                NaN              0   \n",
       "173  we are a team of almost 8,000 employees who he...              0   \n",
       "180                                    Sales Executive              0   \n",
       "215  BENEFITSWhat is offered:Competitive compensati...              0   \n",
       "\n",
       "     has_company_logo  has_questions employment_type required_experience  \\\n",
       "98                  1              1       Full-time    Mid-Senior level   \n",
       "144                 0              0             NaN                 NaN   \n",
       "173                 1              1       Full-time    Mid-Senior level   \n",
       "180                 0              0             NaN                 NaN   \n",
       "215                 1              1       Full-time    Mid-Senior level   \n",
       "\n",
       "            required_education                             industry function  \\\n",
       "98   High School or equivalent                         Oil & Energy    Other   \n",
       "144                        NaN                                  NaN      NaN   \n",
       "173              Certification  Electrical/Electronic Manufacturing    Other   \n",
       "180                        NaN                                  NaN    Sales   \n",
       "215  High School or equivalent                         Oil & Energy    Other   \n",
       "\n",
       "     fraudulent  \n",
       "98            1  \n",
       "144           1  \n",
       "173           1  \n",
       "180           1  \n",
       "215           1  "
      ]
     },
     "execution_count": 6,
     "metadata": {},
     "output_type": "execute_result"
    }
   ],
   "source": [
    "fake_ids = np.where(dataframe['fraudulent']==1)\n",
    "fake_data = dataframe.iloc[fake_ids]\n",
    "real_ids = np.where(dataframe['fraudulent']==0)\n",
    "real_data = dataframe.iloc[real_ids]\n",
    "fake_data.head()"
   ]
  },
  {
   "cell_type": "markdown",
   "metadata": {},
   "source": [
    "## 1.1 Data Exploration\n",
    "### Analyze if the NaNs (missing values) are more represented in fake postings\n",
    "Intuitively and by having a glance at the fake postings preview, the missing values are something that must help to detect if a posting is real or fake. Let's study their distribution across data to verify this hypothesis."
   ]
  },
  {
   "cell_type": "code",
   "execution_count": 7,
   "metadata": {},
   "outputs": [
    {
     "name": "stdout",
     "output_type": "stream",
     "text": [
      "Proportion of fakes in missing values/Columns: \n",
      "[ 5.81039755  4.82026144  4.47491127 21.57295112  6.06060606  5.31697342\n",
      "  7.46130031  6.57596372  5.89234387  5.94209162  5.50833606]\n",
      "company_profile : 21.57 %\n"
     ]
    },
    {
     "data": {
      "text/plain": [
       "<matplotlib.legend.Legend at 0xe13fba8>"
      ]
     },
     "execution_count": 7,
     "metadata": {},
     "output_type": "execute_result"
    },
    {
     "data": {
      "image/png": "[encoded data removed]",
      "text/plain": [
       "<Figure size 1008x432 with 2 Axes>"
      ]
     },
     "metadata": {
      "needs_background": "light"
     },
     "output_type": "display_data"
    }
   ],
   "source": [
    "#Analyze if the NaNs (missing values) are more represented in fake postings\n",
    "real_counts, fake_counts, nan_prop_fake, feat_with_nans = process_nans(fake_data, real_data, dataframe, series_names)\n",
    "        \n",
    "print('Proportion of fakes in missing values/Columns: ')\n",
    "print(np.array(nan_prop_fake)*100)\n",
    "print(series_names[5],':', round(max(nan_prop_fake)*100,2),\"%\")\n",
    "\n",
    "fig, ax = plt.subplots(1,2,figsize=(14,6))\n",
    "ax[0].barh(feat_with_nans, np.asarray(nan_prop_fake))\n",
    "ax[0].set_title('Fake postings rate in missing values')\n",
    "ax[0].set_xlabel('Percentage (%)')\n",
    "\n",
    "width = 0.4\n",
    "ax[1].barh(np.arange(len(real_counts))-width/2, np.asarray(real_counts), width, label='real')\n",
    "ax[1].barh(np.arange(len(fake_counts))+width/2, np.asarray(fake_counts), width, label='fake')\n",
    "ax[1].set_title('Missing value rate in real/fake postings ')\n",
    "ax[1].set_xlabel('Percentage over total category size(%)')\n",
    "ax[1].set_ylabel('Number of missing values (NaN)')\n",
    "ax[1].set_yticks(range(len(fake_counts)))\n",
    "ax[1].legend()"
   ]
  },
  {
   "cell_type": "markdown",
   "metadata": {},
   "source": [
    "**Observations:**<br>\n",
    "-  left plot: shows that, **if the 'company_profile' feature is missing in a posting, then the probability to be a fake is 20%**, which is very high compared to the other column features. Therefore the NaNs could be accounted for as text in the NLP method so that the classifier sees it. Another way can be to use this information as a prior to combine it with the class probability returned by the classifier if there is one. The final probability or prediction would be determined by weighted average or bayesian probabilities for instance.\n",
    "<br> <br>\n",
    "- right figure: is an histogram that represents the proportion of missing values that can be found in a single posting (fake or real). Clearly there is more chance that a fake posting has more missing values than a real one. Having $n$ missing values means that $n$ features are missing for this posting.\n",
    "<br> <br>\n",
    "NaNs represent therefore significant information to characterize fake postings"
   ]
  },
  {
   "cell_type": "markdown",
   "metadata": {},
   "source": [
    "<a id=\"word_dist\"></a>\n",
    "### Analyze number of words distribution across classes  \n",
    "The length of the word sequence can be very different across column features. It is interesting to check that distribution to see afterwards if the feature average length is correlated with the classification capability. "
   ]
  },
  {
   "cell_type": "code",
   "execution_count": 15,
   "metadata": {},
   "outputs": [
    {
     "name": "stdout",
     "output_type": "stream",
     "text": [
      "________________________________________________________________________________\n",
      "Numerical features:\n",
      "['job_id', 'telecommuting', 'has_company_logo', 'has_questions', 'fraudulent']\n",
      "________________________________________________________________________________\n",
      "Text features:\n",
      "['title', 'location', 'department', 'salary_range', 'company_profile', 'description', 'requirements', 'benefits', 'employment_type', 'required_experience', 'required_education', 'industry', 'function']\n"
     ]
    }
   ],
   "source": [
    "list_feat = [0,9,10,11,17] #indices of numerical feature cols\n",
    "\n",
    "#list numerical categories\n",
    "num_series = [series_names[i] for i in list_feat]\n",
    "print('_'*80)\n",
    "print('Numerical features:')\n",
    "print(num_series)\n",
    "\n",
    "#list text categories\n",
    "text_list = [elem for elem in range(1,17) if elem not in list_feat] \n",
    "text_series = [series_names[i] for i in text_list]\n",
    "print('_'*80)\n",
    "print('Text features:')\n",
    "print(text_series)"
   ]
  },
  {
   "cell_type": "code",
   "execution_count": 9,
   "metadata": {},
   "outputs": [],
   "source": [
    "#average number of words per category and per posting\n",
    "words_pcat_real = []\n",
    "words_pcat_fake = []\n",
    "for i in range(len(text_series)):\n",
    "    serie = text_series[i]\n",
    "    word_count_fake = fake_data[serie].str.split(expand=True).stack().value_counts()\n",
    "    word_count_real = real_data[serie].str.split(expand=True).stack().value_counts()\n",
    "    words_pcat_fake.append(word_count_fake.sum()/fake_data[serie].count())\n",
    "    words_pcat_real.append(word_count_real.sum()/real_data[serie].count())"
   ]
  },
  {
   "cell_type": "code",
   "execution_count": 10,
   "metadata": {},
   "outputs": [
    {
     "data": {
      "image/png": "[encoded data removed]",
      "text/plain": [
       "<Figure size 504x360 with 1 Axes>"
      ]
     },
     "metadata": {
      "needs_background": "light"
     },
     "output_type": "display_data"
    }
   ],
   "source": [
    "width = 0.4\n",
    "fig,ax = plt.subplots(figsize=(7,5))\n",
    "ax.barh(np.arange(len(text_series))-width/2, words_pcat_fake, width, log=True,label='fake')\n",
    "ax.barh(np.arange(len(text_series))+width/2, words_pcat_real, width, log=True,label='real')\n",
    "ax.set_title('Average text size per category & posting')\n",
    "ax.set_xlabel('Number of words averaged over dataset size (NaNs ignored)')\n",
    "ax.set_yticklabels(text_series)\n",
    "ax.set_yticks(np.arange(len(text_series)))\n",
    "ax.legend()\n",
    "\n",
    "plt.show()"
   ]
  },
  {
   "cell_type": "markdown",
   "metadata": {},
   "source": [
    "The number of words per posting or feature is homogeneous with respect to the classes, which is good. There are 4 feature columns that have significantly more average words per posting than the others: *'benefits'*, *'requirements'*, *'description'*, and *'company profile'*. <br>The more words, the more probability that the words in fake postings will be different of the real postings ones. <br>It is unlikely that \"single word\" features like *'employment type'*, that could be categorized by the way, contain discriminative information on the nature of the posting."
   ]
  },
  {
   "cell_type": "markdown",
   "metadata": {},
   "source": [
    "## 1.2 Split dataset in train/test set\n",
    "\n",
    "A simple split with ```train_test_split()``` sklearn method. The **data is unbalanced**, therefore some precautions must be taken. <br>\n",
    "Requirements: <br>\n",
    "- Most of the minority class samples have to be in the train set\n",
    "- This method applies a Stratified Kfold to preserve the same class proportions from original dataset in both subsets\n",
    "- The number of real samples in train set isn't very important, as long as it is big enough.\n",
    "<br><br>\n",
    ">**Keeping the data unbalanced makes sense** because in a realistic situation it will be unbalanced as fake postings represent a minority of the overall postings published around the world. Training a classifier for this scenario is thus good. \n",
    "<br>\n",
    "An alternative is to apply up or dowm-sampling advanced methods like Tomek links or SMOTE by using the imblearn library"
   ]
  },
  {
   "cell_type": "code",
   "execution_count": 11,
   "metadata": {},
   "outputs": [
    {
     "name": "stdout",
     "output_type": "stream",
     "text": [
      "fake class rate in train: 0.05 / test: 0.05\n",
      "Proportion of total fakes in train set: 0.8 \n",
      "\n"
     ]
    }
   ],
   "source": [
    "y = dataframe['fraudulent']\n",
    "test_rate = 0.2\n",
    "X_train, X_test, y_train, y_test = simple_split(dataframe, y, test_rate)"
   ]
  },
  {
   "cell_type": "markdown",
   "metadata": {},
   "source": [
    "# 2. Preprocessing\n",
    "\n",
    "The preprocessing includes:\n",
    "- feature extraction, i.e. select only text data because the focus is on applying NLP techniques\n",
    "- clean data: eventually helps to improve performance. Replace NaNs, remove stopwords, etc. Reshape the text in other format, e.g. list of lists. \n",
    "- merge features columns by aggregation\n",
    "- define functions to vectorize and tokenize the text data, thereby most frequent words in postings, features, and classes can be computed.\n",
    "- feature selection : once the data is vectorized, the data matrix can be huge and statistical tests help to reduce the size by keeping only the bests.\n",
    "\n",
    "\n",
    "See `utils.py` for more details on the implementations (most aren't displayed nor used in this section)\n",
    "\n",
    "Note: Usually PCA is applied as a preprocessing step for any kind of ML problem to reduce dimensionality and remove low variance features, thus serves as well as a feature selection tool. For NLP it doens't turn out to be a common practice though. PCA helps in many cases to better separate data by making clusters appear."
   ]
  },
  {
   "cell_type": "markdown",
   "metadata": {},
   "source": [
    "### Remove numerical data from dataset (only text)"
   ]
  },
  {
   "cell_type": "code",
   "execution_count": 12,
   "metadata": {
    "scrolled": true
   },
   "outputs": [
    {
     "name": "stdout",
     "output_type": "stream",
     "text": [
      "Train set size (num data ignored):  (14304, 13)\n",
      "Test set size (num data ignored):  (3576, 13)\n"
     ]
    }
   ],
   "source": [
    "# keep only text  feature columns\n",
    "Xtxt_train = get_txt_data(X_train, num_series)\n",
    "Xtxt_test = get_txt_data(X_test, num_series)\n",
    "print(\"Train set size (num data ignored): \", Xtxt_train.shape)\n",
    "print(\"Test set size (num data ignored): \", Xtxt_test.shape)"
   ]
  },
  {
   "cell_type": "code",
   "execution_count": 21,
   "metadata": {},
   "outputs": [
    {
     "name": "stdout",
     "output_type": "stream",
     "text": [
      "(14304,)\n"
     ]
    },
    {
     "data": {
      "text/plain": [
       "2112     Operations Specialists-EE, 37, Tallinn-Operations\n",
       "7571     Purolator International - Pricing Financial An...\n",
       "764                   Account Manager-US, NY, Brooklyn-nan\n",
       "17291    Immediate Opening : J2EE Developer for Bahrain...\n",
       "16069    Senior Strategic Buyer - Supply Chain MS Offic...\n",
       "dtype: object"
      ]
     },
     "execution_count": 21,
     "metadata": {},
     "output_type": "execute_result"
    }
   ],
   "source": [
    "#Example of 3 merged feature columns \n",
    "categories = [text_series[0], text_series[1], text_series[2]]\n",
    "Xmerg_train, Xmerg_test = generate_corpus(Xtxt_train, Xtxt_test, categories)\n",
    "print(Xmerg_train.shape)\n",
    "Xmerg_train.head()"
   ]
  },
  {
   "cell_type": "code",
   "execution_count": 22,
   "metadata": {},
   "outputs": [
    {
     "name": "stdout",
     "output_type": "stream",
     "text": [
      "________________________________________________________________________________\n",
      "Fake data :\n",
      "15 most frequent words (unigrams) in corpus: \n",
      "\n",
      "('engineering', 62)\n",
      "('clerical', 32)\n",
      "('energy', 30)\n",
      "('oil', 28)\n",
      "('technology', 28)\n",
      "('information', 27)\n",
      "('sales', 26)\n",
      "('service', 23)\n",
      "('customer', 23)\n",
      "('administrative', 16)\n",
      "('admin', 13)\n",
      "('accounting', 11)\n",
      "('center', 10)\n",
      "('csr', 7)\n",
      "('payroll', 7)\n"
     ]
    }
   ],
   "source": [
    "n_most = 15\n",
    "print('_'*80)\n",
    "print('Fake data :')\n",
    "get_most_freq_grams(fake_data, 'department', n_most)"
   ]
  },
  {
   "cell_type": "markdown",
   "metadata": {},
   "source": [
    "# 3. Bag of Words approach\n",
    "\n",
    "First NLP technique applied on the data. `scikit-learn` library provides plenty of built-in tools to work with text using Bag of Word, therefore all this section relies on using methods from that very complete library.\n",
    "\n",
    "The workflow consists  in trying different tokenizers on different feature columns from the original dataset. Then select the most promising ones according to a classifier. Apply grid search to optimize the hyperparameters of the chosen classifier, perform cross-validation to avoid unreliable results. Analyze sensitivity to feature selection and train set size.\n",
    "\n",
    "- Only one classifier is used for the sake of showing a proof of concept\n",
    "- Two tokenizers are used: `CountVectorizer()`and `TfidfTransformer()`\n",
    "    - first is for counting the N-gram occurences and transforming it to numerical feature vectors\n",
    "    - second deals with the discrepancies in the documents size producing artefacts, by transforming the vectors to frequency values. Values are thus relative to text size and features are weighted in case they occur in many documents."
   ]
  },
  {
   "cell_type": "markdown",
   "metadata": {},
   "source": [
    "## 3.1 Penalized classifier \n",
    "\n",
    "Applying weights on classes in response of the unbalanced data is an effective way to improve the results.\n",
    "The classifier decision boundary line is thus shifted towards the majority class samples in order to discriminate better the data points.\n",
    "\n",
    "<a id=\"sgd_classif\"></a>\n",
    "### Effect of balanced class weights on several metric for an SGD classifier (SVM)\n",
    "\n",
    "Linear SVM classifiers appear to be one of the best among all for text classification tasks. Therefore we decide to use this one. The Stochastic Gradient Descent refers only to the optimizazion algoithm to find the minimum of the loss funtion but it provides also more parameters choices. Indeed, we use a 'modified huber' loss that deals better with outliers than the classic 'hinge' loss (it is a quadratic smoothed version). The param `alpha` is equivalent to the regular `C`. \n",
    "\n",
    "The goal is to find which columns feature are the most responsive in order to get rid of the other and merge them."
   ]
  },
  {
   "cell_type": "code",
   "execution_count": 30,
   "metadata": {},
   "outputs": [],
   "source": [
    "#define the parameters\n",
    "n_gram_range = (1,2) #unigrams and bigrams\n",
    "verbose = 0 #silent (no report, intermediary resutls, etc)\n",
    "params = [n_gram_range, verbose] #ngrams_range, report disabled"
   ]
  },
  {
   "cell_type": "code",
   "execution_count": 50,
   "metadata": {},
   "outputs": [],
   "source": [
    "#define the classifiers\n",
    "clf_bld = SGDClassifier(loss='modified_huber',alpha=.0001, max_iter=50,\n",
    "                    penalty=\"elasticnet\",class_weight='balanced')\n",
    "clf = SGDClassifier(loss='modified_huber',alpha=.0001, max_iter=50,\n",
    "                    penalty=\"elasticnet\",class_weight=None)\n"
   ]
  },
  {
   "cell_type": "code",
   "execution_count": 88,
   "metadata": {
    "collapsed": true,
    "jupyter": {
     "outputs_hidden": true
    }
   },
   "outputs": [
    {
     "name": "stdout",
     "output_type": "stream",
     "text": [
      "SGD :\n",
      "accu: 0.969   bld_accu: 0.730   f1: 0.600 \n",
      "\n",
      "SGD :\n",
      "accu: 0.940   bld_accu: 0.835   f1: 0.549 \n",
      "\n",
      "SGD :\n",
      "accu: 0.951   bld_accu: 0.545   f1: 0.163 \n",
      "\n",
      "SGD :\n",
      "accu: 0.807   bld_accu: 0.702   f1: 0.235 \n",
      "\n",
      "SGD :\n",
      "accu: 0.954   bld_accu: 0.570   f1: 0.241 \n",
      "\n",
      "SGD :\n",
      "accu: 0.936   bld_accu: 0.603   f1: 0.268 \n",
      "\n",
      "SGD :\n",
      "accu: 0.951   bld_accu: 0.527   f1: 0.102 \n",
      "\n",
      "SGD :\n",
      "accu: 0.927   bld_accu: 0.551   f1: 0.155 \n",
      "\n",
      "SGD :\n",
      "accu: 0.964   bld_accu: 0.641   f1: 0.440 \n",
      "\n",
      "SGD :\n",
      "accu: 0.842   bld_accu: 0.914   f1: 0.389 \n",
      "\n",
      "SGD :\n",
      "accu: 0.976   bld_accu: 0.762   f1: 0.688 \n",
      "\n",
      "SGD :\n",
      "accu: 0.983   bld_accu: 0.852   f1: 0.805 \n",
      "\n",
      "SGD :\n",
      "accu: 0.972   bld_accu: 0.726   f1: 0.619 \n",
      "\n",
      "SGD :\n",
      "accu: 0.835   bld_accu: 0.782   f1: 0.307 \n",
      "\n",
      "SGD :\n",
      "accu: 0.970   bld_accu: 0.707   f1: 0.581 \n",
      "\n",
      "SGD :\n",
      "accu: 0.601   bld_accu: 0.701   f1: 0.171 \n",
      "\n",
      "SGD :\n",
      "accu: 0.949   bld_accu: 0.500   f1: 0.000 \n",
      "\n",
      "SGD :\n",
      "accu: 0.151   bld_accu: 0.524   f1: 0.101 \n",
      "\n",
      "SGD :\n",
      "accu: 0.949   bld_accu: 0.500   f1: 0.000 \n",
      "\n"
     ]
    },
    {
     "name": "stderr",
     "output_type": "stream",
     "text": [
      "C:\\Users\\Pablo\\Anaconda3\\lib\\site-packages\\sklearn\\linear_model\\_stochastic_gradient.py:557: ConvergenceWarning: Maximum number of iteration reached before convergence. Consider increasing max_iter to improve the fit.\n",
      "  ConvergenceWarning)\n"
     ]
    },
    {
     "name": "stdout",
     "output_type": "stream",
     "text": [
      "SGD :\n",
      "accu: 0.604   bld_accu: 0.475   f1: 0.078 \n",
      "\n",
      "SGD :\n",
      "accu: 0.950   bld_accu: 0.513   f1: 0.053 \n",
      "\n"
     ]
    },
    {
     "name": "stderr",
     "output_type": "stream",
     "text": [
      "C:\\Users\\Pablo\\Anaconda3\\lib\\site-packages\\sklearn\\linear_model\\_stochastic_gradient.py:557: ConvergenceWarning: Maximum number of iteration reached before convergence. Consider increasing max_iter to improve the fit.\n",
      "  ConvergenceWarning)\n"
     ]
    },
    {
     "name": "stdout",
     "output_type": "stream",
     "text": [
      "SGD :\n",
      "accu: 0.429   bld_accu: 0.597   f1: 0.122 \n",
      "\n",
      "SGD :\n",
      "accu: 0.949   bld_accu: 0.500   f1: 0.000 \n",
      "\n"
     ]
    },
    {
     "name": "stderr",
     "output_type": "stream",
     "text": [
      "C:\\Users\\Pablo\\Anaconda3\\lib\\site-packages\\sklearn\\linear_model\\_stochastic_gradient.py:557: ConvergenceWarning: Maximum number of iteration reached before convergence. Consider increasing max_iter to improve the fit.\n",
      "  ConvergenceWarning)\n"
     ]
    },
    {
     "name": "stdout",
     "output_type": "stream",
     "text": [
      "SGD :\n",
      "accu: 0.539   bld_accu: 0.668   f1: 0.151 \n",
      "\n",
      "SGD :\n",
      "accu: 0.949   bld_accu: 0.500   f1: 0.000 \n",
      "\n",
      "SGD :\n",
      "accu: 0.478   bld_accu: 0.623   f1: 0.132 \n",
      "\n"
     ]
    },
    {
     "name": "stderr",
     "output_type": "stream",
     "text": [
      "C:\\Users\\Pablo\\Anaconda3\\lib\\site-packages\\sklearn\\linear_model\\_stochastic_gradient.py:557: ConvergenceWarning: Maximum number of iteration reached before convergence. Consider increasing max_iter to improve the fit.\n",
      "  ConvergenceWarning)\n"
     ]
    }
   ],
   "source": [
    "#compute balanced accu, F1-score and accuracy\n",
    "#for each feature col individually\n",
    "n_metrics = 3\n",
    "bld_clf_scores = np.zeros((len(text_series),n_metrics)) #score for balanced class weights \n",
    "scores = np.zeros((len(text_series),n_metrics)) #regular score\n",
    "info = False\n",
    "for col_idx, col_name in enumerate(text_series):\n",
    "    categories = [col_name]\n",
    "    if info == True:\n",
    "        print('_' * 80)\n",
    "        print(\"Corpus: \")\n",
    "        print(col_name)\n",
    "    X1col_train, X1col_test =  generate_corpus(Xtxt_train, Xtxt_test, categories)\n",
    "    scores[col_idx] = classify_data(clf, X1col_train, X1col_test, y_train, y_test, params)\n",
    "    bld_clf_scores[col_idx] = classify_data(clf_bld, X1col_train, X1col_test, y_train, y_test, params)\n",
    "    "
   ]
  },
  {
   "cell_type": "code",
   "execution_count": 108,
   "metadata": {},
   "outputs": [
    {
     "data": {
      "image/png": "[encoded data removed]",
      "text/plain": [
       "<Figure size 1224x504 with 2 Axes>"
      ]
     },
     "metadata": {
      "needs_background": "light"
     },
     "output_type": "display_data"
    }
   ],
   "source": [
    "width = 0.25\n",
    "fig, (ax1, ax2) = plt.subplots(1,2, figsize=(17,7), sharey=True)\n",
    "ax1.barh(np.arange(len(text_series)), scores[:,1], width,label='Balanced accu')\n",
    "ax1.barh(np.arange(len(text_series))+width, scores[:,2], width, label='F1')\n",
    "ax1.barh(np.arange(len(text_series))-width, scores[:,0], width, label='Accuracy')\n",
    "ax1.set_title('Equal class weights',fontsize=14)\n",
    "ax1.set_xlabel('Score')\n",
    "ax1.set_yticklabels(text_series)\n",
    "ax1.set_yticks(np.arange(len(text_series)))\n",
    "ax1.legend()\n",
    "ax1.grid()\n",
    "\n",
    "ax2.barh(np.arange(len(text_series)), bld_clf_scores[:,1], width,label='Balanced accu')\n",
    "ax2.barh(np.arange(len(text_series))+width, bld_clf_scores[:,2], width, label='F1')\n",
    "ax2.barh(np.arange(len(text_series))-width, bld_clf_scores[:,0], width, label='Accuracy')\n",
    "ax2.set_title('Balanced class weights',fontsize=14)\n",
    "ax2.set_xlabel('Score')\n",
    "ax2.legend()\n",
    "ax2.grid()\n",
    "fig.suptitle('Performance comparison across col. features - SGD classifier',fontsize=15)\n",
    "plt.show()"
   ]
  },
  {
   "cell_type": "markdown",
   "metadata": {},
   "source": [
    "- Accuracy is completely biased by the unbalancedness. **It shouldn't be used** to evaluate performance but it is useful to determine which class is misclassified the most as a confusion matrix could do.\n",
    "- Balanced accuracy is a scoring metric that computes the average (arithmetic) accuracy between both classes. It is suited for unbalanced datasets as we can see. \n",
    "- F1 score is useful to see the capability to classifiy correctly the \"positive class\" being the fake one (label=1) by default\n",
    "- **A good balanced accuracy and F1 score is the selection criterion**\n",
    "\n",
    "**observations**:\n",
    "-  clearly, applying weights proportional to the subset size to each class improves the results. It avoid that almost all real posting are correctly classified whereas the fakes ones not at all.\n",
    "- it shows that there are 5 major promising column features in the orginal dataset: *'benefits'*, *'requirements'*, *'description'*, *'company profile'*, *'title'*. It is an interesting result because it matches quite well the average words per feature and posting figure in [data explo section](#word_dist) except for *'company profile'*. This feature is also highlighted in [data explo section](#word_dist).\n",
    "- F1 scores are quite low except for the *'description'* feature which is unsatisactory. A good solution to improve that could be to  merge these 5 columns and redo the process."
   ]
  },
  {
   "cell_type": "markdown",
   "metadata": {},
   "source": [
    "## 3.2 Fine-tune classifier for a set of aggregated columns in original dataset (manual feat. sel.)\n",
    "\n",
    "### Test some of most well performing columns with SGD classifier penalizing classes"
   ]
  },
  {
   "cell_type": "code",
   "execution_count": 50,
   "metadata": {},
   "outputs": [],
   "source": [
    "#define the parameters\n",
    "n_gram_range = (1,2)\n",
    "verbose = 1\n",
    "params = [n_gram_range, verbose] #ngrams_range, report disabled"
   ]
  },
  {
   "cell_type": "code",
   "execution_count": 41,
   "metadata": {},
   "outputs": [],
   "source": [
    "# Combine feature columns (original dataset) into one \n",
    "categories = ['title','company_profile','description','benefits','requirements']\n",
    "Xcol_train, Xcol_test =  generate_corpus(Xtxt_train, Xtxt_test, categories)"
   ]
  },
  {
   "cell_type": "code",
   "execution_count": 53,
   "metadata": {},
   "outputs": [
    {
     "name": "stdout",
     "output_type": "stream",
     "text": [
      "________________________________________________________________________________\n",
      "Vectorizing: \n",
      "Number of features: 947647\n",
      "________________________________________________________________________________\n",
      "Training: \n",
      "SGDClassifier(alpha=0.0001, average=False, class_weight='balanced',\n",
      "              early_stopping=False, epsilon=0.1, eta0=0.0, fit_intercept=True,\n",
      "              l1_ratio=0.15, learning_rate='optimal', loss='modified_huber',\n",
      "              max_iter=50, n_iter_no_change=5, n_jobs=None,\n",
      "              penalty='elasticnet', power_t=0.5, random_state=None,\n",
      "              shuffle=True, tol=0.001, validation_fraction=0.1, verbose=0,\n",
      "              warm_start=False)\n",
      "train time: 1.336s\n",
      "test time:  0.008s\n",
      "SGD :\n",
      "accu: 0.989   bld_accu: 0.913   f1: 0.888 \n",
      "\n",
      "top 10 determining keywords/features \n",
      "money ;clerical ;data entry ;subsea ;earn ;link ;nan apply ;line requirements ;apply using ;using link\n",
      "\n",
      "classification report:\n",
      "               precision    recall  f1-score   support\n",
      "\n",
      "real postings       0.99      1.00      0.99      3395\n",
      "fake postings       0.96      0.83      0.89       181\n",
      "\n",
      "     accuracy                           0.99      3576\n",
      "    macro avg       0.97      0.91      0.94      3576\n",
      " weighted avg       0.99      0.99      0.99      3576\n",
      "\n",
      "Aggregated series/cols: \n",
      " ['title', 'company_profile', 'description', 'benefits', 'requirements']\n",
      "Classifier: SGD with modified hubber loss and elasticnet penalty\n"
     ]
    }
   ],
   "source": [
    "scores = classify_data(clf_bld, Xcol_train, Xcol_test, y_train, y_test, params)\n",
    "print('Aggregated series/cols: \\n', categories)\n",
    "print('Classifier: SGD with modified hubber loss and elasticnet penalty')"
   ]
  },
  {
   "cell_type": "markdown",
   "metadata": {},
   "source": [
    "### Optimize the hyper parameters through grid search\n",
    "We only try a few hyperparameters combinations because Grid Search is a very heavy and time consuming method."
   ]
  },
  {
   "cell_type": "code",
   "execution_count": 24,
   "metadata": {},
   "outputs": [
    {
     "name": "stdout",
     "output_type": "stream",
     "text": [
      "Fitting 2 folds for each of 36 candidates, totalling 72 fits\n"
     ]
    },
    {
     "name": "stderr",
     "output_type": "stream",
     "text": [
      "[Parallel(n_jobs=-1)]: Using backend LokyBackend with 4 concurrent workers.\n",
      "[Parallel(n_jobs=-1)]: Done  42 tasks      | elapsed:  6.9min\n",
      "[Parallel(n_jobs=-1)]: Done  72 out of  72 | elapsed: 10.2min finished\n"
     ]
    },
    {
     "name": "stdout",
     "output_type": "stream",
     "text": [
      "Best score: 0.936\n",
      "Best parameters set:\n",
      "\tclf__alpha: 1e-05\n",
      "\ttfidf__use_idf: True\n",
      "\tvect__max_df: 0.75\n",
      "\tvect__ngram_range: (1, 3)\n"
     ]
    }
   ],
   "source": [
    "pipeline = Pipeline([\n",
    "    ('vect', CountVectorizer(stop_words='english')),\n",
    "    ('tfidf', TfidfTransformer(sublinear_tf=True)),\n",
    "    ('clf', SGDClassifier(loss='modified_huber', max_iter=50,\n",
    "                          penalty=\"elasticnet\", class_weight='balanced'))\n",
    "     ])\n",
    "\n",
    "parameters = {'clf__alpha': (1e-03, 1e-04, 1e-05), #C parameter of linear SVM\n",
    " 'tfidf__use_idf': (True, False), #enable/disable tf-idf transformation\n",
    " 'vect__ngram_range':  ((1, 1),(1,2),(1,3)), #ngram combination\n",
    " 'vect__max_df': (0.5, 0.75),} #max autorized frequency threshold \n",
    "\n",
    "grid_search = GridSearchCV(pipeline, parameters, scoring='balanced_accuracy',n_jobs=-1, verbose=1, cv=2)\n",
    "grid_search.fit(Xcol_train, y_train)\n",
    "\n",
    "print(\"Best score: %0.3f\" % grid_search.best_score_)\n",
    "print(\"Best parameters set:\")\n",
    "best_parameters = grid_search.best_estimator_.get_params()\n",
    "for param_name in sorted(parameters.keys()):\n",
    "    print(\"\\t%s: %r\" % (param_name, best_parameters[param_name]))"
   ]
  },
  {
   "cell_type": "markdown",
   "metadata": {},
   "source": [
    "### Compute the scores stats for the best parameters using a 5-fold CV"
   ]
  },
  {
   "cell_type": "code",
   "execution_count": 42,
   "metadata": {},
   "outputs": [
    {
     "name": "stdout",
     "output_type": "stream",
     "text": [
      "TFID Vectorizer: n-grams range:(1,3)/ max_df=0.75\n",
      "SGD Classif: mod. hubber/ elastic/ C=1e-5\n",
      "Balanced_accuracy: 0.92 (+/- 0.04)\n"
     ]
    }
   ],
   "source": [
    "best_params = [(1,3),0,0.75] #ngrams, disable report, max_df\n",
    "best_clf = SGDClassifier(loss='modified_huber',alpha=1e-5, max_iter=50,\n",
    "                    penalty=\"elasticnet\",class_weight='balanced')\n",
    "\n",
    "Xvec_train, Xvec_test, feat_names = vectorize(Xcol_train, Xcol_test, best_params) \n",
    "scores = cross_val_score(best_clf, Xvec_train, y_train, cv=5, scoring='balanced_accuracy')\n",
    "\n",
    "print('TFID Vectorizer: n-grams range:(1,3)/ max_df=0.75')\n",
    "print('SGD Classif: mod. hubber/ elastic/ C=1e-5')\n",
    "print(\"Balanced_accuracy: %0.2f (+/- %0.2f)\" % (scores.mean(), scores.std() * 2))"
   ]
  },
  {
   "cell_type": "markdown",
   "metadata": {},
   "source": [
    "## 3.3 Univariate feature selection with $\\chi^{2}$\n",
    "**Test if dimensionality reduction helps to improve the results.** Only the K-best features (statistical test) are kept.<br>\n",
    "Use same train/test set than above"
   ]
  },
  {
   "cell_type": "code",
   "execution_count": 109,
   "metadata": {},
   "outputs": [],
   "source": [
    "categories = ['title','company_profile','description','benefits','requirements']\n",
    "Xagg_train, Xagg_test =  generate_corpus(Xtxt_train, Xtxt_test, categories)"
   ]
  },
  {
   "cell_type": "code",
   "execution_count": 110,
   "metadata": {},
   "outputs": [],
   "source": [
    "best_clf = SGDClassifier(loss='modified_huber',alpha=1e-5, max_iter=50,\n",
    "                         penalty=\"elasticnet\",class_weight='balanced')"
   ]
  },
  {
   "cell_type": "code",
   "execution_count": 111,
   "metadata": {
    "collapsed": true
   },
   "outputs": [
    {
     "name": "stdout",
     "output_type": "stream",
     "text": [
      "________________________________________________________________________________\n",
      "Vectorizing: \n",
      "Number of features: 2393711\n",
      "Extracting 100 best features by a chi-squared test\n",
      "\n",
      "['________________________________________don', '________________________________________don let', '________________________________________don let opportunity', 'accepting online', 'accepting online applications', 'access internet', 'access internet participate', 'aker', 'aker solutions', 'applications onlyclick', 'applications onlyclick apply', 'aptitude staffing', 'available started', 'available started right', 'candidates encouraged', 'complete training provided', 'computer internet', 'data entry', 'data entry complete', 'design technology bring', 'discoveries production', 'discoveries production maximize', 'doing data', 'doing data entry', 'earn', 'easy start', 'easy start ________________________________________don', 'employ approximately 28', 'engineering design technology', 'entry complete', 'entry complete training', 'extra day', 'field employ', 'field employ approximately', 'free time', 'gas industry engineering', 'global provider products', 'industry engineering design', 'information business people', 'internet access', 'internet participate', 'let opportunity', 'let opportunity pass', 'level position offer', 'maximize recovery petroleum', 'need access internet', 'need special', 'need special skills', 'offer online', 'offer online training', 'online applications onlyclick', 'online training', 'online training need', 'onlyclick', 'onlyclick apply', 'opportunity pass', 'opportunity pass positions', 'pass positions', 'pass positions available', 'people 30', 'people 30 countries', 'people values', 'petroleum field', 'petroleum field employ', 'position offer online', 'positions available started', 'production maximize', 'production maximize recovery', 'provided start', 'provided start working', 'provider products', 'provider products systems', 'recovery petroleum', 'recovery petroleum field', 'signing bonus', 'skills started', 'skills started earn', 'solutions global provider', 'special skills', 'special skills started', 'start ________________________________________don', 'start ________________________________________don let', 'start fee', 'start working', 'start working easy', 'started earn', 'started right', 'systems services oil', 'technology bring discoveries', 'training need special', 'training provided start', 'typist', 'url_0fa3f7c5e23a16de16a841e368006cae916884407d90b154dfef3976483a71ae', 'url_0fa3f7c5e23a16de16a841e368006cae916884407d90b154dfef3976483a71ae information', 'url_0fa3f7c5e23a16de16a841e368006cae916884407d90b154dfef3976483a71ae information business', 'work home', 'working easy', 'working easy start', 'zero start', 'zero start fee']\n"
     ]
    }
   ],
   "source": [
    "n_best = 100\n",
    "n_gram_range = (1,3)\n",
    "verbose = 1 #enabled text prints\n",
    "max_df = 0.75\n",
    "params = [n_gram_range, verbose, max_df]\n",
    "#Xvec_train, Xvec_test, feature_names = vectorize(clean_trainset.posting, clean_testset.posting, params) \n",
    "Xvec_train, Xvec_test, feature_names = vectorize(Xagg_train, Xagg_test, params) \n",
    "Xch2_train, Xch2_test = vectorize_ch2(Xvec_train, Xvec_test, y_train, feature_names, n_best)"
   ]
  },
  {
   "cell_type": "code",
   "execution_count": 112,
   "metadata": {
    "collapsed": true
   },
   "outputs": [
    {
     "name": "stdout",
     "output_type": "stream",
     "text": [
      "SGD :\n",
      "accu: 0.942   bld_accu: 0.734   f1: 0.468 \n",
      "\n",
      "SGD :\n",
      "accu: 0.949   bld_accu: 0.738   f1: 0.501 \n",
      "\n",
      "SGD :\n",
      "accu: 0.942   bld_accu: 0.734   f1: 0.465 \n",
      "\n",
      "SGD :\n",
      "accu: 0.949   bld_accu: 0.738   f1: 0.500 \n",
      "\n",
      "SGD :\n",
      "accu: 0.941   bld_accu: 0.734   f1: 0.463 \n",
      "\n",
      "SGD :\n",
      "accu: 0.947   bld_accu: 0.737   f1: 0.489 \n",
      "\n",
      "SGD :\n",
      "accu: 0.941   bld_accu: 0.734   f1: 0.463 \n",
      "\n",
      "SGD :\n",
      "accu: 0.935   bld_accu: 0.731   f1: 0.441 \n",
      "\n",
      "SGD :\n",
      "accu: 0.941   bld_accu: 0.734   f1: 0.463 \n",
      "\n",
      "SGD :\n",
      "accu: 0.943   bld_accu: 0.734   f1: 0.470 \n",
      "\n",
      "SGD :\n",
      "accu: 0.953   bld_accu: 0.740   f1: 0.521 \n",
      "\n",
      "SGD :\n",
      "accu: 0.951   bld_accu: 0.739   f1: 0.510 \n",
      "\n",
      "SGD :\n",
      "accu: 0.954   bld_accu: 0.740   f1: 0.523 \n",
      "\n",
      "SGD :\n",
      "accu: 0.951   bld_accu: 0.739   f1: 0.508 \n",
      "\n",
      "SGD :\n",
      "accu: 0.951   bld_accu: 0.739   f1: 0.510 \n",
      "\n",
      "SGD :\n",
      "accu: 0.950   bld_accu: 0.738   f1: 0.503 \n",
      "\n",
      "SGD :\n",
      "accu: 0.950   bld_accu: 0.738   f1: 0.506 \n",
      "\n",
      "SGD :\n",
      "accu: 0.950   bld_accu: 0.738   f1: 0.503 \n",
      "\n",
      "SGD :\n",
      "accu: 0.949   bld_accu: 0.738   f1: 0.499 \n",
      "\n",
      "SGD :\n",
      "accu: 0.945   bld_accu: 0.736   f1: 0.483 \n",
      "\n",
      "SGD :\n",
      "accu: 0.951   bld_accu: 0.739   f1: 0.507 \n",
      "\n",
      "SGD :\n",
      "accu: 0.937   bld_accu: 0.732   f1: 0.448 \n",
      "\n",
      "SGD :\n",
      "accu: 0.943   bld_accu: 0.735   f1: 0.473 \n",
      "\n",
      "SGD :\n",
      "accu: 0.947   bld_accu: 0.737   f1: 0.488 \n",
      "\n",
      "SGD :\n",
      "accu: 0.951   bld_accu: 0.739   f1: 0.511 \n",
      "\n",
      "SGD :\n",
      "accu: 0.951   bld_accu: 0.739   f1: 0.508 \n",
      "\n",
      "SGD :\n",
      "accu: 0.944   bld_accu: 0.735   f1: 0.478 \n",
      "\n",
      "SGD :\n",
      "accu: 0.946   bld_accu: 0.736   f1: 0.487 \n",
      "\n",
      "SGD :\n",
      "accu: 0.945   bld_accu: 0.735   f1: 0.479 \n",
      "\n",
      "SGD :\n",
      "accu: 0.950   bld_accu: 0.738   f1: 0.503 \n",
      "\n",
      "SGD :\n",
      "accu: 0.937   bld_accu: 0.731   f1: 0.446 \n",
      "\n",
      "SGD :\n",
      "accu: 0.939   bld_accu: 0.732   f1: 0.454 \n",
      "\n",
      "SGD :\n",
      "accu: 0.942   bld_accu: 0.734   f1: 0.465 \n",
      "\n",
      "SGD :\n",
      "accu: 0.939   bld_accu: 0.732   f1: 0.454 \n",
      "\n",
      "SGD :\n",
      "accu: 0.943   bld_accu: 0.735   f1: 0.473 \n",
      "\n",
      "SGD :\n",
      "accu: 0.943   bld_accu: 0.734   f1: 0.470 \n",
      "\n",
      "SGD :\n",
      "accu: 0.947   bld_accu: 0.737   f1: 0.491 \n",
      "\n",
      "SGD :\n",
      "accu: 0.938   bld_accu: 0.732   f1: 0.449 \n",
      "\n",
      "SGD :\n",
      "accu: 0.941   bld_accu: 0.734   f1: 0.464 \n",
      "\n",
      "SGD :\n",
      "accu: 0.941   bld_accu: 0.734   f1: 0.463 \n",
      "\n",
      "SGD :\n",
      "accu: 0.951   bld_accu: 0.739   f1: 0.510 \n",
      "\n",
      "SGD :\n",
      "accu: 0.951   bld_accu: 0.739   f1: 0.508 \n",
      "\n",
      "SGD :\n",
      "accu: 0.948   bld_accu: 0.737   f1: 0.493 \n",
      "\n",
      "SGD :\n",
      "accu: 0.942   bld_accu: 0.734   f1: 0.468 \n",
      "\n",
      "SGD :\n",
      "accu: 0.950   bld_accu: 0.738   f1: 0.506 \n",
      "\n",
      "SGD :\n",
      "accu: 0.948   bld_accu: 0.737   f1: 0.496 \n",
      "\n",
      "SGD :\n",
      "accu: 0.942   bld_accu: 0.734   f1: 0.465 \n",
      "\n",
      "SGD :\n",
      "accu: 0.941   bld_accu: 0.734   f1: 0.463 \n",
      "\n",
      "SGD :\n",
      "accu: 0.954   bld_accu: 0.740   f1: 0.523 \n",
      "\n",
      "SGD :\n",
      "accu: 0.936   bld_accu: 0.731   f1: 0.444 \n",
      "\n",
      "SGD :\n",
      "accu: 0.950   bld_accu: 0.738   f1: 0.503 \n",
      "\n",
      "SGD :\n",
      "accu: 0.938   bld_accu: 0.732   f1: 0.452 \n",
      "\n",
      "SGD :\n",
      "accu: 0.947   bld_accu: 0.737   f1: 0.489 \n",
      "\n",
      "SGD :\n",
      "accu: 0.951   bld_accu: 0.739   f1: 0.507 \n",
      "\n",
      "SGD :\n",
      "accu: 0.953   bld_accu: 0.740   f1: 0.520 \n",
      "\n",
      "SGD :\n",
      "accu: 0.941   bld_accu: 0.734   f1: 0.464 \n",
      "\n",
      "SGD :\n",
      "accu: 0.949   bld_accu: 0.738   f1: 0.499 \n",
      "\n",
      "SGD :\n",
      "accu: 0.945   bld_accu: 0.736   f1: 0.481 \n",
      "\n",
      "SGD :\n",
      "accu: 0.958   bld_accu: 0.737   f1: 0.541 \n",
      "\n",
      "SGD :\n",
      "accu: 0.948   bld_accu: 0.737   f1: 0.496 \n",
      "\n",
      "SGD :\n",
      "accu: 0.951   bld_accu: 0.739   f1: 0.508 \n",
      "\n",
      "SGD :\n",
      "accu: 0.939   bld_accu: 0.732   f1: 0.454 \n",
      "\n",
      "SGD :\n",
      "accu: 0.939   bld_accu: 0.733   f1: 0.456 \n",
      "\n",
      "SGD :\n",
      "accu: 0.954   bld_accu: 0.738   f1: 0.520 \n",
      "\n",
      "SGD :\n",
      "accu: 0.951   bld_accu: 0.739   f1: 0.511 \n",
      "\n",
      "SGD :\n",
      "accu: 0.948   bld_accu: 0.737   f1: 0.495 \n",
      "\n",
      "SGD :\n",
      "accu: 0.941   bld_accu: 0.734   f1: 0.464 \n",
      "\n",
      "SGD :\n",
      "accu: 0.943   bld_accu: 0.735   f1: 0.473 \n",
      "\n",
      "SGD :\n",
      "accu: 0.949   bld_accu: 0.738   f1: 0.499 \n",
      "\n",
      "SGD :\n",
      "accu: 0.946   bld_accu: 0.736   f1: 0.484 \n",
      "\n",
      "SGD :\n",
      "accu: 0.949   bld_accu: 0.738   f1: 0.497 \n",
      "\n",
      "SGD :\n",
      "accu: 0.949   bld_accu: 0.738   f1: 0.497 \n",
      "\n",
      "SGD :\n",
      "accu: 0.952   bld_accu: 0.739   f1: 0.514 \n",
      "\n",
      "SGD :\n",
      "accu: 0.951   bld_accu: 0.739   f1: 0.507 \n",
      "\n",
      "SGD :\n",
      "accu: 0.957   bld_accu: 0.737   f1: 0.535 \n",
      "\n",
      "SGD :\n",
      "accu: 0.948   bld_accu: 0.737   f1: 0.496 \n",
      "\n",
      "SGD :\n",
      "accu: 0.941   bld_accu: 0.734   f1: 0.463 \n",
      "\n",
      "SGD :\n",
      "accu: 0.947   bld_accu: 0.737   f1: 0.491 \n",
      "\n",
      "SGD :\n",
      "accu: 0.941   bld_accu: 0.734   f1: 0.463 \n",
      "\n",
      "SGD :\n",
      "accu: 0.949   bld_accu: 0.738   f1: 0.501 \n",
      "\n",
      "SGD :\n",
      "accu: 0.951   bld_accu: 0.739   f1: 0.508 \n",
      "\n",
      "SGD :\n",
      "accu: 0.947   bld_accu: 0.737   f1: 0.488 \n",
      "\n",
      "SGD :\n",
      "accu: 0.942   bld_accu: 0.734   f1: 0.468 \n",
      "\n",
      "SGD :\n",
      "accu: 0.951   bld_accu: 0.739   f1: 0.507 \n",
      "\n",
      "SGD :\n",
      "accu: 0.943   bld_accu: 0.734   f1: 0.470 \n",
      "\n",
      "SGD :\n",
      "accu: 0.941   bld_accu: 0.734   f1: 0.464 \n",
      "\n",
      "SGD :\n",
      "accu: 0.952   bld_accu: 0.739   f1: 0.514 \n",
      "\n",
      "SGD :\n",
      "accu: 0.941   bld_accu: 0.734   f1: 0.463 \n",
      "\n",
      "SGD :\n",
      "accu: 0.953   bld_accu: 0.740   f1: 0.519 \n",
      "\n",
      "SGD :\n",
      "accu: 0.945   bld_accu: 0.735   f1: 0.479 \n",
      "\n",
      "SGD :\n",
      "accu: 0.954   bld_accu: 0.738   f1: 0.520 \n",
      "\n",
      "SGD :\n",
      "accu: 0.951   bld_accu: 0.739   f1: 0.508 \n",
      "\n",
      "SGD :\n",
      "accu: 0.947   bld_accu: 0.737   f1: 0.491 \n",
      "\n",
      "SGD :\n",
      "accu: 0.954   bld_accu: 0.735   f1: 0.519 \n",
      "\n",
      "SGD :\n",
      "accu: 0.941   bld_accu: 0.734   f1: 0.463 \n",
      "\n",
      "SGD :\n",
      "accu: 0.940   bld_accu: 0.733   f1: 0.457 \n",
      "\n",
      "SGD :\n",
      "accu: 0.945   bld_accu: 0.735   f1: 0.479 \n",
      "\n",
      "SGD :\n",
      "accu: 0.948   bld_accu: 0.737   f1: 0.496 \n",
      "\n",
      "SGD :\n",
      "accu: 0.951   bld_accu: 0.739   f1: 0.508 \n",
      "\n",
      "SGD :\n",
      "accu: 0.942   bld_accu: 0.734   f1: 0.465 \n",
      "\n"
     ]
    }
   ],
   "source": [
    "#performs n_runs (fitting and predict) to have a reliable idea of the ch2 method results\n",
    "n_runs = 100\n",
    "n_metrics = 3\n",
    "chi2_scores = np.zeros((n_runs, n_metrics))\n",
    "for i in range(n_runs):\n",
    "    best_clf.fit(Xch2_train, y_train)\n",
    "    preds = best_clf.predict(Xch2_test)\n",
    "    chi2_scores[i] = compute_clf_scores([preds], ['SGD'],y_test)  \n"
   ]
  },
  {
   "cell_type": "code",
   "execution_count": 126,
   "metadata": {
    "scrolled": true
   },
   "outputs": [
    {
     "name": "stdout",
     "output_type": "stream",
     "text": [
      "(100, 3)\n"
     ]
    },
    {
     "data": {
      "image/png": "[encoded data removed]",
      "text/plain": [
       "<Figure size 504x288 with 2 Axes>"
      ]
     },
     "metadata": {
      "needs_background": "light"
     },
     "output_type": "display_data"
    }
   ],
   "source": [
    "print(chi2_scores.shape)\n",
    "fig = plt.figure(figsize=(7,4))\n",
    "plt.subplot(121)\n",
    "plt.boxplot(chi2_scores[:,1])\n",
    "plt.ylim(0.725,0.745)\n",
    "plt.title('Balanced accuracy')\n",
    "plt.subplot(122)\n",
    "plt.boxplot(chi2_scores[:,2])\n",
    "plt.title('F1 score')\n",
    "fig.suptitle('chi2 feature selection (%d best) + SGD classif over %d runs' % (n_best,n_runs),\n",
    "            fontsize=14)\n",
    "fig.subplots_adjust(top=0.8)"
   ]
  },
  {
   "cell_type": "markdown",
   "metadata": {},
   "source": [
    "$\\chi^{2}$ feature selection is quite disappointing in terms of final classification performance. It remains useful to fasten the process by reducing the comput. cost. \n",
    "\n",
    "The variance of the F1 score is surprisingly high for a 100 run test and may be abnormal.\n",
    "**Text classification looks to work better by keeping all the features**"
   ]
  },
  {
   "cell_type": "markdown",
   "metadata": {},
   "source": [
    "## 3.4 Sensitivity to train set size\n",
    "Check how the train set size affects the results.<br>\n",
    "Test set remains the same as before (otherwise comparison not possible).<br>\n",
    "Train set is randomly sampled from the previous one: 5 merged columns.<br>\n",
    "No feature selection.\n",
    "No optimized classifier, just the defined one at the beginning of [the section](#sgd_classif)"
   ]
  },
  {
   "cell_type": "code",
   "execution_count": 49,
   "metadata": {},
   "outputs": [
    {
     "data": {
      "text/plain": [
       "685"
      ]
     },
     "execution_count": 49,
     "metadata": {},
     "output_type": "execute_result"
    }
   ],
   "source": [
    "(y_train[Xcol_train.index.values)"
   ]
  },
  {
   "cell_type": "code",
   "execution_count": 58,
   "metadata": {
    "collapsed": true
   },
   "outputs": [
    {
     "name": "stdout",
     "output_type": "stream",
     "text": [
      "0\n",
      "(1430,)\n",
      "(1430,)\n",
      "SGD :\n",
      "accu: 0.936   bld_accu: 0.835   f1: 0.533 \n",
      "\n",
      "1\n",
      "(2108,)\n",
      "(2108,)\n",
      "SGD :\n",
      "accu: 0.972   bld_accu: 0.815   f1: 0.697 \n",
      "\n",
      "2\n",
      "(2786,)\n",
      "(2786,)\n",
      "SGD :\n",
      "accu: 0.975   bld_accu: 0.838   f1: 0.738 \n",
      "\n",
      "3\n",
      "(3463,)\n",
      "(3463,)\n",
      "SGD :\n",
      "accu: 0.968   bld_accu: 0.860   f1: 0.703 \n",
      "\n",
      "4\n",
      "(4141,)\n",
      "(4141,)\n",
      "SGD :\n",
      "accu: 0.979   bld_accu: 0.850   f1: 0.776 \n",
      "\n",
      "5\n",
      "(4818,)\n",
      "(4818,)\n",
      "SGD :\n",
      "accu: 0.983   bld_accu: 0.873   f1: 0.819 \n",
      "\n",
      "6\n",
      "(5496,)\n",
      "(5496,)\n",
      "SGD :\n",
      "accu: 0.985   bld_accu: 0.887   f1: 0.837 \n",
      "\n",
      "7\n",
      "(6173,)\n",
      "(6173,)\n",
      "SGD :\n",
      "accu: 0.987   bld_accu: 0.901   f1: 0.859 \n",
      "\n",
      "8\n",
      "(6851,)\n",
      "(6851,)\n",
      "SGD :\n",
      "accu: 0.987   bld_accu: 0.902   f1: 0.864 \n",
      "\n",
      "9\n",
      "(7528,)\n",
      "(7528,)\n",
      "SGD :\n",
      "accu: 0.987   bld_accu: 0.904   f1: 0.867 \n",
      "\n",
      "10\n",
      "(8206,)\n",
      "(8206,)\n",
      "SGD :\n",
      "accu: 0.990   bld_accu: 0.924   f1: 0.898 \n",
      "\n",
      "11\n",
      "(8884,)\n",
      "(8884,)\n",
      "SGD :\n",
      "accu: 0.987   bld_accu: 0.910   f1: 0.869 \n",
      "\n",
      "12\n",
      "(9561,)\n",
      "(9561,)\n",
      "SGD :\n",
      "accu: 0.989   bld_accu: 0.913   f1: 0.880 \n",
      "\n",
      "13\n",
      "(10239,)\n",
      "(10239,)\n",
      "SGD :\n",
      "accu: 0.989   bld_accu: 0.921   f1: 0.887 \n",
      "\n",
      "14\n",
      "(10916,)\n",
      "(10916,)\n",
      "SGD :\n",
      "accu: 0.987   bld_accu: 0.910   f1: 0.869 \n",
      "\n",
      "15\n",
      "(11594,)\n",
      "(11594,)\n",
      "SGD :\n",
      "accu: 0.989   bld_accu: 0.924   f1: 0.888 \n",
      "\n",
      "16\n",
      "(12271,)\n",
      "(12271,)\n",
      "SGD :\n",
      "accu: 0.989   bld_accu: 0.921   f1: 0.890 \n",
      "\n",
      "17\n",
      "(12949,)\n",
      "(12949,)\n",
      "SGD :\n",
      "accu: 0.990   bld_accu: 0.919   f1: 0.891 \n",
      "\n",
      "18\n",
      "(13626,)\n",
      "(13626,)\n",
      "SGD :\n",
      "accu: 0.989   bld_accu: 0.919   f1: 0.889 \n",
      "\n",
      "19\n",
      "(14304,)\n",
      "(14304,)\n",
      "SGD :\n",
      "accu: 0.989   bld_accu: 0.919   f1: 0.889 \n",
      "\n",
      "[[0.93568233 0.83536888 0.53252033]\n",
      " [0.97175615 0.81514007 0.6966967 ]\n",
      " [0.9753915  0.8379759  0.73809524]\n",
      " [0.96840045 0.86044557 0.70341207]\n",
      " [0.97930649 0.85049838 0.77575758]\n",
      " [0.98322148 0.87348148 0.81927711]\n",
      " [0.98461969 0.88729363 0.83679525]\n",
      " [0.98657718 0.90140034 0.85882353]\n",
      " [0.98713647 0.90169489 0.86390533]\n",
      " [0.98741611 0.90445732 0.86725664]\n",
      " [0.99021253 0.92423616 0.89795918]\n",
      " [0.98741611 0.90968763 0.86880466]\n",
      " [0.98853468 0.91289189 0.8797654 ]\n",
      " [0.98909396 0.9210319  0.88695652]\n",
      " [0.98741611 0.90968763 0.86880466]\n",
      " [0.98909396 0.92364706 0.88760807]\n",
      " [0.9893736  0.92117918 0.88953488]\n",
      " [0.98965324 0.9187113  0.8914956 ]\n",
      " [0.9893736  0.91856402 0.88888889]\n",
      " [0.9893736  0.91856402 0.88888889]]\n"
     ]
    }
   ],
   "source": [
    "params = [(1,2),0,0.75]\n",
    "nb_splits = 20 #number of train set splits or samplings\n",
    "n_metrics = 3\n",
    "split_rates = np.linspace(0.1,1,nb_splits)\n",
    "fake_rate = []\n",
    "scores = np.zeros((nb_splits, n_metrics))\n",
    "for cnt, rate in enumerate(split_rates):\n",
    "    print(cnt)\n",
    "    Xsamp_train =  Xcol_train.sample(frac=rate,random_state=42)\n",
    "    ys_train = y_train[Xsamp_train.index.values]\n",
    "    print(Xsamp_train.shape)\n",
    "    print(ys_train.shape)\n",
    "\n",
    "    scores[cnt] = classify_data(clf_bld, Xsamp_train, Xcol_test, ys_train, y_test, params)\n",
    "print(scores)"
   ]
  },
  {
   "cell_type": "code",
   "execution_count": 62,
   "metadata": {},
   "outputs": [
    {
     "data": {
      "text/plain": [
       "Text(0.5, 0, 'Fraction of initial train set (14304 samples)')"
      ]
     },
     "execution_count": 62,
     "metadata": {},
     "output_type": "execute_result"
    },
    {
     "data": {
      "image/png": "[encoded data removed]",
      "text/plain": [
       "<Figure size 432x288 with 1 Axes>"
      ]
     },
     "metadata": {
      "needs_background": "light"
     },
     "output_type": "display_data"
    }
   ],
   "source": [
    "plt.figure()\n",
    "plt.plot(split_rates,scores[:,0],label='accuracy')\n",
    "plt.plot(split_rates,scores[:,1],label='bld accuracy')\n",
    "plt.plot(split_rates,scores[:,2],label='f1')\n",
    "plt.title('Test set prediction score evolution')\n",
    "plt.legend()\n",
    "plt.xlabel('Fraction of initial train set (14304 samples)')"
   ]
  },
  {
   "cell_type": "markdown",
   "metadata": {},
   "source": [
    "Accuracy isn't almost sensitive at all to the train set size which confirms that it is a bad measure. <br>\n",
    "We see that a plateau is reached from about 60% of the initial train set meaning that we could decrease the number of training samples and keep the same performance which is a good insight.<br>\n",
    "The oscillation are due to the varying number of 'fake' samples that affect the classifier a lot. Therefore the sampling could be improved"
   ]
  },
  {
   "cell_type": "markdown",
   "metadata": {},
   "source": [
    "# 4. Word2Vec Embedding approach\n",
    "\n",
    "## 4.1 Train own model\n",
    "Use same corpus as before, i.e. the five aggregated columns gathered in Xcol_train/test.<br>\n",
    "First try only for the descritpion column.<br> <br>\n",
    "Word2Vec accounts for the words order in a sequence, therefore captures the semantics of the textual data. It doesn't mean it will perform better, this depends on the task and the classification problem, also a fine-tuning and huge pre-trained model are helpful to improve performance. The bigger the model the more powerful it is as it learns from many more context combinations. This is why pre-trained models are often used (GloVe, Google, Wikipedia), yet the drawback is they may not be specialized in a certain type of vocabulary.\n",
    "\n",
    "### Preprocessing of the sentences for each posting\n",
    "Remove undesired text sequences such as html tags, non existing words, or common words not carrying meaningful information. <br> The data is gathered in a list of lists format suited for the model creation method"
   ]
  },
  {
   "cell_type": "code",
   "execution_count": 11,
   "metadata": {},
   "outputs": [],
   "source": [
    "# Feature column names to combine/aggregate\n",
    "categories = ['title','company_profile','description','benefits','requirements']\n",
    "# Aggregate columns corresponding to the above feature categories in one column\n",
    "Xagg_train, Xagg_test =  generate_corpus(Xtxt_train, Xtxt_test, categories)"
   ]
  },
  {
   "cell_type": "code",
   "execution_count": 12,
   "metadata": {
    "scrolled": false
   },
   "outputs": [
    {
     "name": "stdout",
     "output_type": "stream",
     "text": [
      "Parsing sentences from training set\n"
     ]
    },
    {
     "name": "stderr",
     "output_type": "stream",
     "text": [
      "C:\\Users\\Pablo\\Anaconda3\\lib\\site-packages\\bs4\\__init__.py:314: UserWarning: \"b'.'\" looks like a filename, not markup. You should probably open this file and pass the filehandle into Beautiful Soup.\n",
      "  ' Beautiful Soup.' % markup)\n"
     ]
    }
   ],
   "source": [
    "tokenizer = nltk.data.load('tokenizers/punkt/english.pickle')\n",
    "\n",
    "sentences = []\n",
    "print(\"Parsing sentences from training set\")\n",
    "for posting in Xagg_train:\n",
    "    sentences += posting_sentences(posting, tokenizer)"
   ]
  },
  {
   "cell_type": "markdown",
   "metadata": {},
   "source": [
    "### Create w2v model from our dataset\n",
    "No fine tuning of hyper parameters for this method because too demanding <br>\n",
    "Much less features are used than for the bag of words approach (dimensionality reduction) <br>\n",
    "CBOW (Continuous Bag of Words), i.e. the default algorithm, is used even though Skip-gram may produce better results<br>\n",
    "<br>\n",
    "The models can be saved, here only the last one tried for the same 5 feature cols used in **3.** is displayed "
   ]
  },
  {
   "cell_type": "code",
   "execution_count": 180,
   "metadata": {},
   "outputs": [
    {
     "name": "stdout",
     "output_type": "stream",
     "text": [
      "Training model....\n"
     ]
    }
   ],
   "source": [
    "# Creating the model and setting values for the various parameters\n",
    "num_features = 300  # Word vector dimensionality\n",
    "min_word_count = 40 # Minimum word count\n",
    "num_workers = 4     # Number of parallel threads\n",
    "context = 10        # Context window size\n",
    "downsampling = 1e-3 # (0.001) Downsample setting for frequent words\n",
    "\n",
    "# Initializing the train model\n",
    "print(\"Training model....\")\n",
    "model = word2vec.Word2Vec(sentences,\\\n",
    "                          workers=num_workers,\\\n",
    "                          size=num_features,\\\n",
    "                          min_count=min_word_count,\\\n",
    "                          window=context,\n",
    "                          sample=downsampling)\n",
    "\n",
    "# To make the model memory efficient\n",
    "model.init_sims(replace=True)\n",
    "\n",
    "# Saving the model for later use. Can be loaded using Word2Vec.load()\n",
    "#model_name = \"300features_40minwords_10context\"\n",
    "model_name = \"300features_40minwords_10context_BestCols\"\n",
    "model.save(model_name)"
   ]
  },
  {
   "cell_type": "code",
   "execution_count": 181,
   "metadata": {},
   "outputs": [
    {
     "name": "stderr",
     "output_type": "stream",
     "text": [
      "C:\\Users\\Pablo\\Anaconda3\\lib\\site-packages\\gensim\\models\\keyedvectors.py:877: FutureWarning: arrays to stack must be passed as a \"sequence\" type such as list or tuple. Support for non-sequence iterables such as generators is deprecated as of NumPy 1.16 and will raise an error in the future.\n",
      "  vectors = vstack(self.word_vec(word, use_norm=True) for word in used_words).astype(REAL)\n"
     ]
    },
    {
     "data": {
      "text/plain": [
       "'europe'"
      ]
     },
     "execution_count": 181,
     "metadata": {},
     "output_type": "execute_result"
    }
   ],
   "source": [
    "#few tests to see if the model is consistent\n",
    "model.wv.doesnt_match(\"cali US Texas europe \".split())"
   ]
  },
  {
   "cell_type": "code",
   "execution_count": 182,
   "metadata": {},
   "outputs": [
    {
     "data": {
      "text/plain": [
       "[('director', 0.6236939430236816),\n",
       " ('vice', 0.6020326614379883),\n",
       " ('executives', 0.5751060247421265),\n",
       " ('president', 0.574233889579773),\n",
       " ('manager', 0.546119213104248),\n",
       " ('vp', 0.5427366495132446),\n",
       " ('directors', 0.5400621891021729),\n",
       " ('senior', 0.525533139705658),\n",
       " ('coordinator', 0.5052340030670166),\n",
       " ('consultant', 0.504036545753479)]"
      ]
     },
     "execution_count": 182,
     "metadata": {},
     "output_type": "execute_result"
    }
   ],
   "source": [
    "model.wv.most_similar(\"executive\")"
   ]
  },
  {
   "cell_type": "markdown",
   "metadata": {},
   "source": [
    "### Averaging the postings word sequence with the model\n",
    "Buil the train and test set by averaging all the word embeddings in each posting using the model (lookup table)"
   ]
  },
  {
   "cell_type": "code",
   "execution_count": 271,
   "metadata": {
    "collapsed": true
   },
   "outputs": [
    {
     "name": "stdout",
     "output_type": "stream",
     "text": [
      "Posting 0 of 14304\n"
     ]
    },
    {
     "name": "stderr",
     "output_type": "stream",
     "text": [
      "C:\\Users\\Pablo\\Anaconda3\\lib\\site-packages\\ipykernel_launcher.py:12: DeprecationWarning: Call to deprecated `__getitem__` (Method will be removed in 4.0.0, use self.wv.__getitem__() instead).\n",
      "  if sys.path[0] == '':\n"
     ]
    },
    {
     "name": "stdout",
     "output_type": "stream",
     "text": [
      "Posting 1000 of 14304\n",
      "Posting 2000 of 14304\n",
      "Posting 3000 of 14304\n",
      "Posting 4000 of 14304\n",
      "Posting 5000 of 14304\n",
      "Posting 6000 of 14304\n",
      "Posting 7000 of 14304\n",
      "Posting 8000 of 14304\n",
      "Posting 9000 of 14304\n",
      "Posting 10000 of 14304\n",
      "Posting 11000 of 14304\n",
      "Posting 12000 of 14304\n",
      "Posting 13000 of 14304\n",
      "Posting 14000 of 14304\n"
     ]
    }
   ],
   "source": [
    "# Calculating average feature vector for training set\n",
    "clean_train_postings = []\n",
    "#for description in Xtxt_train['description']:\n",
    "for description in Xagg_train:\n",
    "    clean_train_postings.append(posting_wordlist(description))\n",
    "    \n",
    "trainDataVecs = getAvgFeatureVecs(clean_train_postings, model, num_features)"
   ]
  },
  {
   "cell_type": "code",
   "execution_count": 274,
   "metadata": {},
   "outputs": [
    {
     "name": "stdout",
     "output_type": "stream",
     "text": [
      "Posting 0 of 3576\n"
     ]
    },
    {
     "name": "stderr",
     "output_type": "stream",
     "text": [
      "C:\\Users\\Pablo\\Anaconda3\\lib\\site-packages\\ipykernel_launcher.py:12: DeprecationWarning: Call to deprecated `__getitem__` (Method will be removed in 4.0.0, use self.wv.__getitem__() instead).\n",
      "  if sys.path[0] == '':\n"
     ]
    },
    {
     "name": "stdout",
     "output_type": "stream",
     "text": [
      "Posting 1000 of 3576\n",
      "Posting 2000 of 3576\n",
      "Posting 3000 of 3576\n"
     ]
    }
   ],
   "source": [
    "# Calculating average feature vactors for test set     \n",
    "clean_test_postings = []\n",
    "#for description in Xtxt_test['description']:\n",
    "for description in Xagg_test:\n",
    "    clean_test_postings.append(posting_wordlist(description))\n",
    "    \n",
    "testDataVecs = getAvgFeatureVecs(clean_test_postings, model, num_features)"
   ]
  },
  {
   "cell_type": "markdown",
   "metadata": {},
   "source": [
    "###  Train and compare different classifiers \n",
    "The classifier that was the best for Bag of Words is not necessarly the best for Word2Vec embedding. <br>\n",
    "In order to compare the 2 approaches, we use the same metrics.\n",
    "The idea of using different metrics makes sense because a single one isn't enough to correctly evaluate if a classifier performs well. Indeed, balanced accuracy doesn't tell which class is the one that is the most misclassified as could a confusion matrix do, therefore by looking at the standard accuracy (**biased**), we can guess."
   ]
  },
  {
   "cell_type": "code",
   "execution_count": 275,
   "metadata": {},
   "outputs": [
    {
     "name": "stdout",
     "output_type": "stream",
     "text": [
      "Train set shape:  (14304, 300)\n",
      "Fitting random forest to training data....\n",
      "Fitting SGD classifier (SVM) to training data....\n"
     ]
    },
    {
     "name": "stderr",
     "output_type": "stream",
     "text": [
      "C:\\Users\\Pablo\\Anaconda3\\lib\\site-packages\\sklearn\\linear_model\\_stochastic_gradient.py:557: ConvergenceWarning: Maximum number of iteration reached before convergence. Consider increasing max_iter to improve the fit.\n",
      "  ConvergenceWarning)\n"
     ]
    },
    {
     "name": "stdout",
     "output_type": "stream",
     "text": [
      "Fitting Ada Boost classifier to training data....\n"
     ]
    }
   ],
   "source": [
    "# Fitting different classifiers to the training data\n",
    "forest_clf = RandomForestClassifier(n_estimators = 100)\n",
    "\n",
    "sgd_clf = SGDClassifier(loss='modified_huber',alpha=1e-5, max_iter=100,\n",
    "                        penalty=\"elasticnet\",class_weight='balanced')\n",
    "\n",
    "adaboost_clf = AdaBoostClassifier(n_estimators=100, random_state = 1)\n",
    " \n",
    "print('Train set shape: ',trainDataVecs.shape)   \n",
    "print(\"Fitting random forest to training data....\")    \n",
    "forest = forest_clf.fit(trainDataVecs, y_train)\n",
    "print(\"Fitting SGD classifier (SVM) to training data....\")    \n",
    "lin_svm = sgd_clf.fit(trainDataVecs, y_train)\n",
    "print(\"Fitting Ada Boost classifier to training data....\")    \n",
    "adaboost = adaboost_clf.fit(trainDataVecs, y_train)"
   ]
  },
  {
   "cell_type": "code",
   "execution_count": 276,
   "metadata": {},
   "outputs": [],
   "source": [
    "# Predicting the sentiment values for test data and saving the results in a csv file \n",
    "pred_forest = forest_clf.predict(testDataVecs)\n",
    "pred_sgd = sgd_clf.predict(testDataVecs)\n",
    "pred_adaboost = adaboost_clf.predict(testDataVecs)\n",
    "#output = pd.DataFrame(data={\"id\":X_test['job_id'], \"fraudulent\":result})\n",
    "#output.to_csv( \"output.csv\", index=False, quoting=3 )"
   ]
  },
  {
   "cell_type": "code",
   "execution_count": 278,
   "metadata": {},
   "outputs": [
    {
     "name": "stdout",
     "output_type": "stream",
     "text": [
      "forest :\n",
      "accu: 0.971   bld_accu: 0.718   f1: 0.605 \n",
      "\n",
      "SGD (linear svm) :\n",
      "accu: 0.759   bld_accu: 0.836   f1: 0.279 \n",
      "\n",
      "Ada Boost (ensemble) :\n",
      "accu: 0.967   bld_accu: 0.747   f1: 0.609 \n",
      "\n"
     ]
    }
   ],
   "source": [
    "# Compute scoring metrics for all the classifiers\n",
    "preds = [pred_forest, pred_sgd, pred_adaboost]\n",
    "clf_names = ['forest','SGD (linear svm)','Ada Boost (ensemble)']\n",
    "scores_w2v = compute_clf_scores(preds, clf_names, y_test)"
   ]
  },
  {
   "cell_type": "code",
   "execution_count": 279,
   "metadata": {},
   "outputs": [],
   "source": [
    "#np.save('scores_w2v_5col',scores_w2v)"
   ]
  },
  {
   "cell_type": "code",
   "execution_count": 129,
   "metadata": {
    "scrolled": true
   },
   "outputs": [
    {
     "data": {
      "image/png": "[encoded data removed]",
      "text/plain": [
       "<Figure size 1080x360 with 2 Axes>"
      ]
     },
     "metadata": {
      "needs_background": "light"
     },
     "output_type": "display_data"
    }
   ],
   "source": [
    "# Plot the scores for the tested classifiers and training data\n",
    "scores_w2v_descri = np.load('scores_w2v_DescriCol.npy')\n",
    "scores_w2v_5col = np.load('scores_w2v_5col.npy')\n",
    "clf_names = ['forest','SGD (linear svm)','Ada Boost (ensemble)']\n",
    "    \n",
    "fig, (ax1, ax2) = plt.subplots(1,2, figsize=(15,5), sharey=False)\n",
    "plot_scores(ax1, scores_w2v_descri, clf_names,'description')\n",
    "plot_scores(ax2, scores_w2v_5col, clf_names,'5 best')\n"
   ]
  },
  {
   "cell_type": "markdown",
   "metadata": {},
   "source": [
    "- We observe that using more than one feature column doesn't improve significantly the results. \n",
    "- Adaboost and Random forest give similar results and are better than the SGD classifier previously used in the bag of words approach. SGD is makes a lot misclaffication errors for both classes leading to a poor F1 score\n",
    "- SGD classifier with 5 features cols, even though it has the highest balanced accuracy score, can't be considered the best because of it's low F1 score\n",
    "- The scores are only obtained from a single run, thus the variance isn't accounted for. This could be improved by making several runs. However it won't change the trend: this implementation of word2vec doesn't give good results overall\n",
    "- Other columns combinations could be tried as well as other hyperparameters\n",
    "- Using a pre-trained model could also improve the results"
   ]
  },
  {
   "cell_type": "markdown",
   "metadata": {},
   "source": [
    "# 5. Conclusions\n",
    "\n",
    "## 5.1 Comparison of both approaches\n",
    "\n",
    "The Bag of Words approach turns out to be the best one despite its limitation: it doesn't account for word context nor order. It proves therefore that context isn't necessary for every text classification. The results are roughly the following: <br>\n",
    "\n",
    "**Bag of Words balanced accu: 0.92** <br>\n",
    "**Word2Vec balanced accu: 0.80** <br>\n",
    "\n",
    "The difference is huge. A major factor is dimensionnality reduction (**BoW:>$10^6$ dim vs. w2v:300 dim**). Indeed the more features, the better the score. \n",
    "Word2Vec model wasn't studied as deeply as the other one and it can be further improved. Once a model is built with Word2Vec it is very handy to reuse it for different tasks which is not the case for our bag of words implementation.<br>\n",
    "\n",
    "A linear SVM represents a very good classif for BoW but not for w2v. \n",
    "\n",
    "\n",
    "\n",
    "## 5.2 Future improvements\n",
    "- use area under curve of ROC as evaluation metric: suited for unbalanced labels. Needs the classifier output probabilities for each sample, which is an available information with SGD clf.   \n",
    "- Try Doc2Vec, Fast Text embeddings\n",
    "- Use a pre-trained w2v model such as GloVe\n",
    "- Try other columns combination, leverage the numerical data, other feature selection methods\n",
    "- Performs several runs and average them in the first part of BoW. Each time the classif is used it converges to a similar but different value (non convex problem --> sensitive to initial conditions)"
   ]
  },
  {
   "cell_type": "markdown",
   "metadata": {},
   "source": [
    "# References\n",
    "\n",
    "- Word2vec <br>\n",
    "http://nadbordrozd.github.io/blog/2016/05/20/text-classification-with-word2vec/ <br>\n",
    "https://www.kaggle.com/ananyabioinfo/text-classification-using-word2vec/notebook <br>\n",
    "https://www.kaggle.com/varun08/sentiment-analysis-using-word2vec/notebook <br>\n",
    "http://www.xavierdupre.fr/app/papierstat/helpsphinx/notebooks/text_sentiment_wordvec.html#reduire-les-dimensions-avec-une-acp <br>\n",
    "https://towardsdatascience.com/a-beginners-guide-to-word-embedding-with-gensim-word2vec-model-5970fa56cc92  <br>\n",
    "https://github.com/RaRe-Technologies/movie-plots-by-genre/blob/master/ipynb_with_output/Document%20classification%20with%20word%20embeddings%20tutorial%20-%20with%20output.ipynb\n",
    "<br>\n",
    "- Bag of Words <br>\n",
    "https://towardsdatascience.com/nlp-learning-series-part-2-conventional-methods-for-text-classification-40f2839dd061\n",
    "\n",
    "- General ML tools <br>\n",
    "https://scikit-learn.org/stable/user_guide.html <br>\n",
    "https://scikit-learn.org/stable/modules/classes.html <br>\n",
    "https://towardsdatascience.com/having-an-imbalanced-dataset-here-is-how-you-can-solve-it-1640568947eb <br>\n",
    "https://www.kaggle.com/rafjaa/resampling-strategies-for-imbalanced-datasets <br>\n",
    "https://elitedatascience.com/imbalanced-classes <br>"
   ]
  }
 ],
 "metadata": {
  "kernelspec": {
   "display_name": "Python 3",
   "language": "python",
   "name": "python3"
  },
  "language_info": {
   "codemirror_mode": {
    "name": "ipython",
    "version": 3
   },
   "file_extension": ".py",
   "mimetype": "text/x-python",
   "name": "python",
   "nbconvert_exporter": "python",
   "pygments_lexer": "ipython3",
   "version": "3.8.8"
  }
 },
 "nbformat": 4,
 "nbformat_minor": 4
}
